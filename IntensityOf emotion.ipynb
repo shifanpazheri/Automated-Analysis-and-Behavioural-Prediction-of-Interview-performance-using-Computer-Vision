{
 "cells": [
  {
   "cell_type": "code",
   "execution_count": 1,
   "id": "c2d4a804",
   "metadata": {},
   "outputs": [],
   "source": [
    "import numpy as np\n",
    "import pandas as pd"
   ]
  },
  {
   "cell_type": "code",
   "execution_count": 2,
   "id": "a763ba89",
   "metadata": {},
   "outputs": [],
   "source": [
    "def TimeOverlap(T1_f1,T2_f1,T1_f2,T2_f2):\n",
    "    if(T2_f1>T1_f2):\n",
    "        return True\n",
    "    else:\n",
    "        return False"
   ]
  },
  {
   "cell_type": "code",
   "execution_count": 3,
   "id": "1a9cb51a",
   "metadata": {},
   "outputs": [],
   "source": [
    "def TimeIntervalScoreSad(each_frame_emotion,emotion_thershold,interval_value=1000,frame_diff=25):\n",
    "    '''\n",
    "    Time interval and corresponding dominanting emotion\n",
    "    \n",
    "    Argument:-\n",
    "    each_frame_emotion --- pandas dataframe datatype, each frame and its corresponding emotion\n",
    "    emotion_thershold --- dictonary datatype, key = emotion and value = thershold of that emotion\n",
    "    interval_value --- interval in which pattern is searched\n",
    "    frame_diff --- differece between two frames under consideration\n",
    "    \n",
    "    return:-\n",
    "    interval_range --- list of dictonary datatype, T1-starting frame, T2-ending frame, emotion-sad ,character-character shown during T1 and T2 ,value- % of that particular character\n",
    "    '''\n",
    "    \n",
    "    interval_range=[]\n",
    "    count=0\n",
    "    \n",
    "    array_emotion = np.array(each_frame_emotion['Emotion'])\n",
    "    now_sad = 0\n",
    "    \n",
    "    for i in range(interval_value//frame_diff):\n",
    "        if(array_emotion[i]=='sad'):\n",
    "            now_sad = now_sad + 1\n",
    "        \n",
    "    right = interval_value//frame_diff -1\n",
    "    \n",
    "    for left in range (len(array_emotion)):\n",
    "        if(right==(len(array_emotion))-1):\n",
    "            break;\n",
    "        \n",
    "        if(array_emotion[left]=='sad'):\n",
    "            now_sad = now_sad - 1\n",
    "            \n",
    "        if(array_emotion[right+1]=='sad'):\n",
    "            now_sad = now_sad + 1\n",
    "        \n",
    "        #print(\"left={} right={} left*frame_diff={} right*frame_diff={} now_sad={} maximum_sad={}\".format(left,right,left*frame_diff,right*frame_diff,now_sad,maximum_sad))\n",
    "        \n",
    "        right=right+1\n",
    "        \n",
    "        if(emotion_thershold['sad']<now_sad*100/(interval_value//frame_diff)):\n",
    "            if(count==0 or TimeOverlap(interval_range[count-1]['T1'],interval_range[count-1]['T2'],left*frame_diff,right*frame_diff) != True):\n",
    "                interval={}\n",
    "                interval['T1']=left*frame_diff\n",
    "                interval['T2']=right*frame_diff\n",
    "                interval['emotion']='sad'\n",
    "                interval['value']=now_sad*100/(interval_value//frame_diff)\n",
    "                interval_range.append(interval)\n",
    "                count=count+1\n",
    "            elif(interval_range[count-1]['value']<now_sad*100/(interval_value//frame_diff)):\n",
    "                interval_range.pop()\n",
    "                interval['T1']=left*frame_diff\n",
    "                interval['T2']=right*frame_diff\n",
    "                interval['emotion']='sad'\n",
    "                interval['value']=now_sad*100/(interval_value//frame_diff)\n",
    "                interval_range.append(interval)\n",
    "                \n",
    "        \n",
    "    return interval_range\n",
    "    \n",
    "    "
   ]
  },
  {
   "cell_type": "code",
   "execution_count": 19,
   "id": "a9865460",
   "metadata": {},
   "outputs": [],
   "source": [
    "def TimeIntervalScoreFear(each_frame_emotion,emotion_thershold,interval_value=1000,frame_diff=25):\n",
    "    '''\n",
    "    Time interval and corresponding dominanting emotion\n",
    "    \n",
    "    Argument:-\n",
    "    each_frame_emotion --- pandas dataframe datatype, each frame and its corresponding emotion\n",
    "    emotion_thershold --- dictonary datatype, key = emotion and value = thershold of that emotion\n",
    "    interval_value --- interval in which pattern is searched\n",
    "    frame_diff --- differece between two frames under consideration\n",
    "    \n",
    "    return:-\n",
    "    interval_range --- list of dictonary datatype, T1-starting frame, T2-ending frame, emotion- ,character-character shown during T1 and T2 ,value- % of that particular character\n",
    "    '''\n",
    "    \n",
    "    interval_range=[]\n",
    "    count=0\n",
    "    \n",
    "    array_emotion = np.array(each_frame_emotion['Emotion'])\n",
    "    now_fear = 0\n",
    "    \n",
    "    for i in range(interval_value//frame_diff):\n",
    "        if(array_emotion[i]=='fear'):\n",
    "            now_fear = now_fear + 1\n",
    "        \n",
    "    right = interval_value//frame_diff -1\n",
    "    \n",
    "    for left in range (len(array_emotion)):\n",
    "        if(right==(len(array_emotion))-1):\n",
    "            break;\n",
    "        \n",
    "        if(array_emotion[left]=='fear'):\n",
    "            now_fear = now_fear - 1\n",
    "            \n",
    "        if(array_emotion[right+1]=='fear'):\n",
    "            now_fear = now_fear + 1\n",
    "        \n",
    "        #print(\"left={} right={} left*frame_diff={} right*frame_diff={} now_fear={} maximum_fear={}\".format(left,right,left*frame_diff,right*frame_diff,now_fear,maximum_fear))\n",
    "        \n",
    "        right=right+1\n",
    "        \n",
    "        if(emotion_thershold['fear']<now_fear*100/(interval_value//frame_diff)):\n",
    "            if(count==0 or TimeOverlap(interval_range[count-1]['T1'],interval_range[count-1]['T2'],left*frame_diff,right*frame_diff) != True):\n",
    "                interval={}\n",
    "                interval['T1']=left*frame_diff\n",
    "                interval['T2']=right*frame_diff\n",
    "                interval['emotion']='fear'\n",
    "                interval['value']=now_fear*100/(interval_value//frame_diff)\n",
    "                interval_range.append(interval)\n",
    "                count=count+1\n",
    "            elif(interval_range[count-1]['value']<now_fear*100/(interval_value//frame_diff)):\n",
    "                interval_range.pop()\n",
    "                interval['T1']=left*frame_diff\n",
    "                interval['T2']=right*frame_diff\n",
    "                interval['emotion']='fear'\n",
    "                interval['value']=now_fear*100/(interval_value//frame_diff)\n",
    "                interval_range.append(interval)\n",
    "                \n",
    "        \n",
    "    return interval_range\n",
    "    \n",
    "    "
   ]
  },
  {
   "cell_type": "code",
   "execution_count": 23,
   "id": "f9c8a1ca",
   "metadata": {},
   "outputs": [],
   "source": [
    "def TimeIntervalScoreAngry(each_frame_emotion,emotion_thershold,interval_value=1000,frame_diff=25):\n",
    "    '''\n",
    "    Time interval and corresponding dominanting emotion\n",
    "    \n",
    "    Argument:-\n",
    "    each_frame_emotion --- pandas dataframe datatype, each frame and its corresponding emotion\n",
    "    emotion_thershold --- dictonary datatype, key = emotion and value = thershold of that emotion\n",
    "    interval_value --- interval in which pattern is searched\n",
    "    frame_diff --- differece between two frames under consideration\n",
    "    \n",
    "    return:-\n",
    "    interval_range --- list of dictonary datatype, T1-starting frame, T2-ending frame, emotion-angry ,character-character shown during T1 and T2 ,value- % of that particular character\n",
    "    '''\n",
    "    \n",
    "    interval_range=[]\n",
    "    count=0\n",
    "    \n",
    "    array_emotion = np.array(each_frame_emotion['Emotion'])\n",
    "    now_angry = 0\n",
    "    \n",
    "    for i in range(interval_value//frame_diff):\n",
    "        if(array_emotion[i]=='angry'):\n",
    "            now_angry = now_angry + 1\n",
    "        \n",
    "    right = interval_value//frame_diff -1\n",
    "    \n",
    "    for left in range (len(array_emotion)):\n",
    "        if(right==(len(array_emotion))-1):\n",
    "            break;\n",
    "        \n",
    "        if(array_emotion[left]=='angry'):\n",
    "            now_angry = now_angry - 1\n",
    "            \n",
    "        if(array_emotion[right+1]=='angry'):\n",
    "            now_angry = now_angry + 1\n",
    "        \n",
    "        #print(\"left={} right={} left*frame_diff={} right*frame_diff={} now_angry={} maximum_angry={}\".format(left,right,left*frame_diff,right*frame_diff,now_angry,maximum_anger))\n",
    "        \n",
    "        right=right+1\n",
    "        \n",
    "        if(emotion_thershold['angry']<now_angry*100/(interval_value//frame_diff)):\n",
    "            if(count==0 or TimeOverlap(interval_range[count-1]['T1'],interval_range[count-1]['T2'],left*frame_diff,right*frame_diff) != True):\n",
    "                interval={}\n",
    "                interval['T1']=left*frame_diff\n",
    "                interval['T2']=right*frame_diff\n",
    "                interval['emotion']='angry'\n",
    "                interval['value']=now_angry*100/(interval_value//frame_diff)\n",
    "                interval_range.append(interval)\n",
    "                count=count+1\n",
    "            elif(interval_range[count-1]['value']<now_angry*100/(interval_value//frame_diff)):\n",
    "                interval_range.pop()\n",
    "                interval['T1']=left*frame_diff\n",
    "                interval['T2']=right*frame_diff\n",
    "                interval['emotion']='angry'\n",
    "                interval['value']=now_angry*100/(interval_value//frame_diff)\n",
    "                interval_range.append(interval)\n",
    "                \n",
    "        \n",
    "    return interval_range"
   ]
  },
  {
   "cell_type": "code",
   "execution_count": 17,
   "id": "c382eb94",
   "metadata": {},
   "outputs": [],
   "source": [
    "emotion_thershold = {}\n",
    "emotion_thershold['happy'] = 20\n",
    "emotion_thershold['surprise'] = 5\n",
    "emotion_thershold['disguist'] = 12\n",
    "emotion_thershold['fear'] = 5\n",
    "emotion_thershold['sad'] = 10\n",
    "emotion_thershold['angry'] = 4"
   ]
  },
  {
   "cell_type": "code",
   "execution_count": 6,
   "id": "eb62e9ba",
   "metadata": {},
   "outputs": [],
   "source": [
    "each_frame_emotion = pd.read_csv(r\"C:\\Users\\muham\\Desktop\\EachFrameOfP44.csv\") "
   ]
  },
  {
   "cell_type": "code",
   "execution_count": 7,
   "id": "daad04a3",
   "metadata": {},
   "outputs": [
    {
     "name": "stdout",
     "output_type": "stream",
     "text": [
      "    Participant  Frame No  Emotion\n",
      "0           P37        25    happy\n",
      "1           P37        50    happy\n",
      "2           P37        75    happy\n",
      "3           P37       100    happy\n",
      "4           P37       125    happy\n",
      "..          ...       ...      ...\n",
      "361         P37      1875  neutral\n",
      "362         P37      1900    happy\n",
      "363         P37      1925    angry\n",
      "364         P37      1950      sad\n",
      "365         P37      1975    angry\n",
      "\n",
      "[366 rows x 3 columns]\n"
     ]
    }
   ],
   "source": [
    "print(each_frame_emotion)"
   ]
  },
  {
   "cell_type": "code",
   "execution_count": 8,
   "id": "9dc7d988",
   "metadata": {},
   "outputs": [
    {
     "data": {
      "text/plain": [
       "366"
      ]
     },
     "execution_count": 8,
     "metadata": {},
     "output_type": "execute_result"
    }
   ],
   "source": [
    "len(np.array(each_frame_emotion[\"Emotion\"]))"
   ]
  },
  {
   "cell_type": "code",
   "execution_count": 9,
   "id": "7c0a4f49",
   "metadata": {},
   "outputs": [
    {
     "data": {
      "text/plain": [
       "array(['happy', 'happy', 'happy', 'happy', 'happy', 'happy', 'happy',\n",
       "       'happy', 'happy', 'happy', 'fear', 'sad', 'happy', 'happy',\n",
       "       'happy', 'happy', 'happy', 'happy', 'fear', 'sad', 'neutral',\n",
       "       'sad', 'happy', 'happy', 'sad', 'happy', 'angry', 'happy', 'happy',\n",
       "       'neutral', 'sad', 'happy', 'happy', 'sad', 'sad', 'fear', 'happy',\n",
       "       'happy', 'happy', 'happy', 'happy', 'happy', 'happy', 'happy',\n",
       "       'happy', 'happy', 'happy', 'happy', 'happy', 'happy', 'happy',\n",
       "       'happy', 'happy', 'happy', 'fear', 'neutral', 'happy', 'sad',\n",
       "       'happy', 'neutral', 'neutral', 'sad', 'happy', 'sad', 'neutral',\n",
       "       'angry', 'happy', 'neutral', 'neutral', 'happy', 'neutral',\n",
       "       'happy', 'happy', 'neutral', 'neutral', 'happy', 'angry', 'sad',\n",
       "       'angry', 'angry', 'sad', 'happy', 'happy', 'happy', 'happy',\n",
       "       'happy', 'happy', 'happy', 'happy', 'sad', 'sad', 'sad', 'sad',\n",
       "       'sad', 'fear', 'sad', 'happy', 'happy', 'happy', 'neutral',\n",
       "       'happy', 'happy', 'happy', 'happy', 'happy', 'happy', 'happy',\n",
       "       'happy', 'happy', 'happy', 'happy', 'happy', 'happy', 'happy',\n",
       "       'happy', 'happy', 'sad', 'neutral', 'sad', 'sad', 'sad', 'happy',\n",
       "       'happy', 'happy', 'happy', 'happy', 'happy', 'happy', 'happy',\n",
       "       'happy', 'happy', 'happy', 'happy', 'happy', 'neutral', 'neutral',\n",
       "       'neutral', 'neutral', 'neutral', 'happy', 'sad', 'sad', 'sad',\n",
       "       'happy', 'happy', 'happy', 'happy', 'happy', 'happy', 'happy',\n",
       "       'happy', 'happy', 'happy', 'sad', 'happy', 'happy', 'neutral',\n",
       "       'neutral', 'happy', 'sad', 'happy', 'sad', 'happy', 'happy',\n",
       "       'happy', 'sad', 'sad', 'sad', 'happy', 'happy', 'happy', 'happy',\n",
       "       'surprise', 'happy', 'angry', 'sad', 'neutral', 'angry', 'neutral',\n",
       "       'happy', 'happy', 'angry', 'sad', 'fear', 'sad', 'fear', 'happy',\n",
       "       'sad', 'happy', 'happy', 'happy', 'fear', 'happy', 'neutral',\n",
       "       'happy', 'happy', 'happy', 'happy', 'happy', 'happy', 'happy',\n",
       "       'happy', 'happy', 'happy', 'happy', 'happy', 'happy', 'sad',\n",
       "       'happy', 'happy', 'happy', 'happy', 'happy', 'angry', 'angry',\n",
       "       'sad', 'angry', 'happy', 'happy', 'happy', 'fear', 'angry',\n",
       "       'angry', 'sad', 'angry', 'sad', 'happy', 'angry', 'sad', 'happy',\n",
       "       'angry', 'fear', 'happy', 'sad', 'sad', 'sad', 'happy', 'happy',\n",
       "       'happy', 'happy', 'happy', 'happy', 'happy', 'neutral', 'sad',\n",
       "       'sad', 'happy', 'fear', 'angry', 'happy', 'sad', 'fear', 'sad',\n",
       "       'sad', 'happy', 'happy', 'happy', 'happy', 'happy', 'happy',\n",
       "       'happy', 'happy', 'neutral', 'sad', 'sad', 'happy', 'happy', 'sad',\n",
       "       'happy', 'happy', 'happy', 'happy', 'sad', 'happy', 'happy',\n",
       "       'happy', 'happy', 'happy', 'happy', 'sad', 'happy', 'happy',\n",
       "       'happy', 'happy', 'happy', 'happy', 'happy', 'happy', 'happy',\n",
       "       'happy', 'happy', 'happy', 'happy', 'happy', 'happy', 'happy',\n",
       "       'happy', 'fear', 'sad', 'happy', 'happy', 'happy', 'happy',\n",
       "       'happy', 'happy', 'fear', 'sad', 'neutral', 'sad', 'happy',\n",
       "       'happy', 'sad', 'happy', 'angry', 'happy', 'happy', 'neutral',\n",
       "       'sad', 'happy', 'happy', 'sad', 'sad', 'fear', 'happy', 'happy',\n",
       "       'happy', 'happy', 'happy', 'happy', 'happy', 'happy', 'happy',\n",
       "       'happy', 'happy', 'happy', 'happy', 'happy', 'happy', 'happy',\n",
       "       'happy', 'happy', 'fear', 'neutral', 'happy', 'sad', 'happy',\n",
       "       'neutral', 'neutral', 'sad', 'happy', 'sad', 'neutral', 'angry',\n",
       "       'happy', 'neutral', 'neutral', 'happy', 'neutral', 'happy',\n",
       "       'happy', 'neutral', 'neutral', 'happy', 'angry', 'sad', 'angry'],\n",
       "      dtype=object)"
      ]
     },
     "execution_count": 9,
     "metadata": {},
     "output_type": "execute_result"
    }
   ],
   "source": [
    "np.array(each_frame_emotion[\"Emotion\"])"
   ]
  },
  {
   "cell_type": "code",
   "execution_count": 14,
   "id": "32c8baf4",
   "metadata": {},
   "outputs": [
    {
     "data": {
      "text/plain": [
       "[{'T1': 0, 'T2': 1000, 'emotion': 'sad', 'value': 17.5},\n",
       " {'T1': 1375, 'T2': 2375, 'emotion': 'sad', 'value': 27.5},\n",
       " {'T1': 3375, 'T2': 4375, 'emotion': 'sad', 'value': 25.0},\n",
       " {'T1': 5325, 'T2': 6325, 'emotion': 'sad', 'value': 30.0},\n",
       " {'T1': 7025, 'T2': 8025, 'emotion': 'sad', 'value': 17.5}]"
      ]
     },
     "execution_count": 14,
     "metadata": {},
     "output_type": "execute_result"
    }
   ],
   "source": [
    "TimeIntervalScoreSad(each_frame_emotion,emotion_thershold,interval_value=1000)"
   ]
  },
  {
   "cell_type": "code",
   "execution_count": 20,
   "id": "3f2b226e",
   "metadata": {},
   "outputs": [
    {
     "data": {
      "text/plain": [
       "[{'T1': 0, 'T2': 1000, 'emotion': 'fear', 'value': 7.5},\n",
       " {'T1': 4500, 'T2': 5500, 'emotion': 'fear', 'value': 10.0},\n",
       " {'T1': 5500, 'T2': 6500, 'emotion': 'fear', 'value': 7.5},\n",
       " {'T1': 7050, 'T2': 8050, 'emotion': 'fear', 'value': 7.5}]"
      ]
     },
     "execution_count": 20,
     "metadata": {},
     "output_type": "execute_result"
    }
   ],
   "source": [
    "TimeIntervalScoreFear(each_frame_emotion,emotion_thershold,interval_value=1000)"
   ]
  },
  {
   "cell_type": "code",
   "execution_count": 24,
   "id": "9e1c3255",
   "metadata": {},
   "outputs": [
    {
     "data": {
      "text/plain": [
       "[{'T1': 975, 'T2': 1975, 'emotion': 'angry', 'value': 10.0},\n",
       " {'T1': 5200, 'T2': 6200, 'emotion': 'angry', 'value': 22.5},\n",
       " {'T1': 8125, 'T2': 9125, 'emotion': 'angry', 'value': 7.5}]"
      ]
     },
     "execution_count": 24,
     "metadata": {},
     "output_type": "execute_result"
    }
   ],
   "source": [
    "TimeIntervalScoreAngry(each_frame_emotion,emotion_thershold,interval_value=1000)"
   ]
  }
 ],
 "metadata": {
  "kernelspec": {
   "display_name": "Python 3 (ipykernel)",
   "language": "python",
   "name": "python3"
  },
  "language_info": {
   "codemirror_mode": {
    "name": "ipython",
    "version": 3
   },
   "file_extension": ".py",
   "mimetype": "text/x-python",
   "name": "python",
   "nbconvert_exporter": "python",
   "pygments_lexer": "ipython3",
   "version": "3.9.7"
  }
 },
 "nbformat": 4,
 "nbformat_minor": 5
}
