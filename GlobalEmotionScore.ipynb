{
 "cells": [
  {
   "cell_type": "code",
   "execution_count": 1,
   "id": "6e0ea97f",
   "metadata": {},
   "outputs": [],
   "source": [
    "import numpy as np\n",
    "import pandas as pd"
   ]
  },
  {
   "cell_type": "code",
   "execution_count": 2,
   "id": "857523b5",
   "metadata": {},
   "outputs": [],
   "source": [
    "def globalScore(emotion_percentage,emotion_thershold):\n",
    "    '''\n",
    "    Overall performance of interview by giving the dominant emotion and its corresponding value\n",
    "    \n",
    "    Argument:-\n",
    "    emotion_percentage --- pandas dataframe datatype, It contain the percentage of each emotion\n",
    "    emotion_thershold --- dictonary datatype, key = emotion and value = thershold of that emotion \n",
    "    \n",
    "    return:-\n",
    "    global_emotion_score --- dictonary, which contains all dominant emotion and its value\n",
    "    '''\n",
    "    \n",
    "    global_emotion_score={}\n",
    "    \n",
    "    for emotion in emotion_percentage.keys():\n",
    "        if(emotion_percentage[emotion].unique()[0]>emotion_thershold[emotion]):\n",
    "            global_emotion_score[emotion]=emotion_percentage[emotion].unique()[0]\n",
    "        \n",
    "    return global_emotion_score"
   ]
  },
  {
   "cell_type": "code",
   "execution_count": 3,
   "id": "5b879ce8",
   "metadata": {},
   "outputs": [],
   "source": [
    "emotion_thershold = {}\n",
    "emotion_thershold['happy'] = 20\n",
    "emotion_thershold['surprise'] = 5\n",
    "emotion_thershold['disguist'] = 12\n",
    "emotion_thershold['fear'] = 10\n",
    "emotion_thershold['neutral'] = 10\n",
    "emotion_thershold['sad'] = 15\n",
    "emotion_thershold['angry'] = 4"
   ]
  },
  {
   "cell_type": "code",
   "execution_count": 4,
   "id": "9a1dcdd8",
   "metadata": {},
   "outputs": [],
   "source": [
    "emotion_percentage = pd.read_csv(r\"C:\\Users\\muham\\Desktop\\AverageOfP44.csv\") "
   ]
  },
  {
   "cell_type": "code",
   "execution_count": 5,
   "id": "5191fbd3",
   "metadata": {},
   "outputs": [
    {
     "name": "stdout",
     "output_type": "stream",
     "text": [
      "      angry      fear    neutral      sad  disguist      happy  surprise\n",
      "0  6.473214  0.892857  27.008929  39.0625         0  26.339286  0.223214\n"
     ]
    }
   ],
   "source": [
    "print(emotion_percentage)"
   ]
  },
  {
   "cell_type": "code",
   "execution_count": 6,
   "id": "9217bf80",
   "metadata": {},
   "outputs": [
    {
     "data": {
      "text/plain": [
       "Index(['angry', 'fear', 'neutral', 'sad', 'disguist', 'happy', 'surprise'], dtype='object')"
      ]
     },
     "execution_count": 6,
     "metadata": {},
     "output_type": "execute_result"
    }
   ],
   "source": [
    "emotion_percentage.columns"
   ]
  },
  {
   "cell_type": "code",
   "execution_count": 7,
   "id": "e2b35d81",
   "metadata": {},
   "outputs": [
    {
     "data": {
      "text/plain": [
       "26.3392857142857"
      ]
     },
     "execution_count": 7,
     "metadata": {},
     "output_type": "execute_result"
    }
   ],
   "source": [
    "emotion_percentage['happy'].unique()[0]"
   ]
  },
  {
   "cell_type": "code",
   "execution_count": 8,
   "id": "d08a8125",
   "metadata": {},
   "outputs": [
    {
     "name": "stdout",
     "output_type": "stream",
     "text": [
      "{'happy': 20, 'surprise': 5, 'disguist': 12, 'fear': 10, 'neutral': 10, 'sad': 15, 'angry': 4}\n"
     ]
    }
   ],
   "source": [
    "print(emotion_thershold)"
   ]
  },
  {
   "cell_type": "code",
   "execution_count": 9,
   "id": "c09fbb27",
   "metadata": {},
   "outputs": [
    {
     "name": "stdout",
     "output_type": "stream",
     "text": [
      "{'angry': 6.47321428571429, 'neutral': 27.0089285714286, 'sad': 39.0625, 'happy': 26.3392857142857}\n"
     ]
    }
   ],
   "source": [
    "print(globalScore(emotion_percentage,emotion_thershold))"
   ]
  }
 ],
 "metadata": {
  "kernelspec": {
   "display_name": "Python 3 (ipykernel)",
   "language": "python",
   "name": "python3"
  },
  "language_info": {
   "codemirror_mode": {
    "name": "ipython",
    "version": 3
   },
   "file_extension": ".py",
   "mimetype": "text/x-python",
   "name": "python",
   "nbconvert_exporter": "python",
   "pygments_lexer": "ipython3",
   "version": "3.9.7"
  }
 },
 "nbformat": 4,
 "nbformat_minor": 5
}
