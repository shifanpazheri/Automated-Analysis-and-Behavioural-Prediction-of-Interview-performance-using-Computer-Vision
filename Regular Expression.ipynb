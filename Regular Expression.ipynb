{
 "cells": [
  {
   "cell_type": "code",
   "execution_count": 1,
   "id": "9811c6fe",
   "metadata": {},
   "outputs": [],
   "source": [
    "import numpy as np\n",
    "import pandas as pd\n",
    "import re"
   ]
  },
  {
   "cell_type": "code",
   "execution_count": 2,
   "id": "27728c24",
   "metadata": {},
   "outputs": [],
   "source": [
    "def ConvertToString(each_frame_emotion,emotion_number):\n",
    "    \n",
    "    result_string = \"\"\n",
    "    array_emotion = np.array(each_frame_emotion['Emotion'])\n",
    "    \n",
    "    for emotion in array_emotion:\n",
    "        result_string += str(emotion_number[emotion])\n",
    "    \n",
    "    result_string +=\".\"\n",
    "    \n",
    "    return result_string"
   ]
  },
  {
   "cell_type": "code",
   "execution_count": 3,
   "id": "8578c9a2",
   "metadata": {},
   "outputs": [],
   "source": [
    "each_frame_emotion = pd.read_csv(r\"C:\\Users\\muham\\Desktop\\EachFrameOfP44.csv\") "
   ]
  },
  {
   "cell_type": "code",
   "execution_count": 4,
   "id": "fa74914f",
   "metadata": {},
   "outputs": [],
   "source": [
    "emotion_number = {}\n",
    "emotion_number['angry'] = 0\n",
    "emotion_number['sad'] = 1\n",
    "emotion_number['fear'] = 2\n",
    "emotion_number['disguist'] = 3\n",
    "emotion_number['neutral'] = 4\n",
    "emotion_number['surprise'] = 5\n",
    "emotion_number['happy'] = 6"
   ]
  },
  {
   "cell_type": "code",
   "execution_count": 5,
   "id": "f12b4962",
   "metadata": {},
   "outputs": [
    {
     "data": {
      "text/plain": [
       "'666666666621666666214166160664166112666666666666666666246164416140644646644601001666666661111121666466666666666666661411166666666666664444461116666666666166446161666111666656014046601212616662646666666666666166666001066620010160160261116666666411620612116666666641166166661666666166666666666666666216666662141661606641661126666666666666666662461644161406446466446010.'"
      ]
     },
     "execution_count": 5,
     "metadata": {},
     "output_type": "execute_result"
    }
   ],
   "source": [
    "ConvertToString(each_frame_emotion,emotion_number)"
   ]
  },
  {
   "cell_type": "code",
   "execution_count": 6,
   "id": "cad608c4",
   "metadata": {},
   "outputs": [],
   "source": [
    "def MinThershold(t1,t2,frame_diff=1):\n",
    "    if t2-t1>frame_diff*100:\n",
    "        return True\n",
    "    return False"
   ]
  },
  {
   "cell_type": "code",
   "execution_count": 7,
   "id": "cd64b8d9",
   "metadata": {},
   "outputs": [],
   "source": [
    "def FindPattern(string,frame_diff=1):\n",
    "    '''\n",
    "    Finding pattern using regular expression\n",
    "    \n",
    "    Argument:-\n",
    "    string --- Each frame convert into string representing emotion\n",
    "    '''\n",
    "    \n",
    "    all_regex = []\n",
    "    character = []\n",
    "    quote = []\n",
    "    suggestion = []\n",
    "        \n",
    "    all_regex.append(\"1+4*1+1+4*1+1+1+4*1+1+4*1+\") # append all patterns\n",
    "    character.append(\"Lack of Confidence\") #corresponding character\n",
    "    quote.append(\"Nothing builds confidence quicker than practice interviewing. If you don't succeed but atleast try, experience works a lot.y: Do not foster the fear of not getting this particular job.\") #corresponding quote\n",
    "    suggestion.append(\"Watch this youtube link https://youtu.be/M4iHa7gHvNI\") #Do this and watch this\n",
    "    \n",
    "    all_regex.append(\"1*2+4*1+4*2*4*1*2+1*\") # append all patterns\n",
    "    character.append(\"Lack of Preparation\") #corresponding character\n",
    "    quote.append(\"A lack of preparation gives you a major disadvantage over other candidates and will cost you a job before you have even walked in the door.\") #corresponding quote\n",
    "    suggestion.append(\"Read this website https://isarta.com/news/job-interview-lack-of-preparation-is-the-biggest-cause-of-awkwardness/\") #Do this and watch this\n",
    "    \n",
    "    all_regex.append(\"0*3+4*0+4*3*4*0*3+0*\") # append all patterns\n",
    "    character.append(\"Lack of communication between interviewer\") #corresponding character\n",
    "    quote.append(\" Be more relaxed and try to build good relationship between interviewer.\") #corresponding quote\n",
    "    suggestion.append(\"Read this blog https://www.flexjobs.com/employer-blog/interview-communication-failures-fix/ \") #Do this and watch this\n",
    "    \n",
    "    all_regex.append(\"5*6+4*5+4*6*4*5*6+5*\") # append all patterns\n",
    "    character.append(\"Over Enthusiastic\") #corresponding character\n",
    "    quote.append(\"Excitement at certain times comes off as insincere and it can make you babble, saying a lot of words that don't mean anything. Focus on answering rather than talking too much.\") #corresponding quote\n",
    "    suggestion.append(\"Read this blog https://www.chartercollege.edu/news-hub/can-you-be-too-enthusiastic-job-interview \") #Do this and watch this\n",
    "    \n",
    "    all_regex.append(\"^0*1*2*3*1+2*3*1+2*\") # append all patterns\n",
    "    character.append(\"Stage Fear\") #corresponding character\n",
    "    quote.append(\"Stage fright is very common and could be overcomed through step by step processes, but stuttering is a fright that takes time to conquer.\") #corresponding quote\n",
    "    suggestion.append(\"Watch this youtube link https://youtu.be/_Tpw8_B-2io \") #Do this and watch this\n",
    "    \n",
    "    \n",
    "    interval_range=[]\n",
    "    \n",
    "    for i in range(len(all_regex)):\n",
    "        match = re.findall(all_regex[i], string)\n",
    "        print(match)\n",
    "\n",
    "        first=0\n",
    "        last=len(string)-1\n",
    "        for matches in match:\n",
    "            \n",
    "            interval={}\n",
    "            res = re.search(matches, string[first:last])\n",
    "            interval['T1']=(res.start()+first+1)*frame_diff #T1 included\n",
    "            interval['T2']=(res.end()+first)*frame_diff #T2 included\n",
    "            interval['character']=character[i]\n",
    "            interval['quote']=quote[i]\n",
    "            interval['suggestion']=suggestion[i]\n",
    "            interval_range.append(interval)\n",
    "            first=res.end()\n",
    "\n",
    "            if(MinThershold(interval['T1'],interval['T2'])==False):#Checking for Pattern Lenght Thershold\n",
    "                interval_range.pop()\n",
    "            \n",
    "            \n",
    "        \n",
    "    return interval_range\n",
    "    "
   ]
  },
  {
   "cell_type": "code",
   "execution_count": 8,
   "id": "3ce419ec",
   "metadata": {
    "scrolled": true
   },
   "outputs": [
    {
     "name": "stdout",
     "output_type": "stream",
     "text": [
      "[]\n",
      "['1212']\n",
      "[]\n",
      "['666656']\n",
      "[]\n"
     ]
    },
    {
     "data": {
      "text/plain": [
       "[]"
      ]
     },
     "execution_count": 8,
     "metadata": {},
     "output_type": "execute_result"
    }
   ],
   "source": [
    "FindPattern(ConvertToString(each_frame_emotion,emotion_number))"
   ]
  },
  {
   "cell_type": "code",
   "execution_count": 9,
   "id": "b1e2f1c1",
   "metadata": {},
   "outputs": [
    {
     "name": "stdout",
     "output_type": "stream",
     "text": [
      "['111111111111111411111111111', '1111111111']\n",
      "['22122', '11111111112222222222222224441444421']\n",
      "['33333344000003033000000000']\n",
      "['5666666666565', '65656555555']\n",
      "['111121']\n"
     ]
    },
    {
     "data": {
      "text/plain": [
       "[]"
      ]
     },
     "execution_count": 9,
     "metadata": {},
     "output_type": "execute_result"
    }
   ],
   "source": [
    "FindPattern(\"1111213221224101141011403333433333344000003033000000000333334566666666656544444444656565555554111111111111111411111111111333333333333313333333114131434444444431311111111112222222222222224441444421411111114444.\")"
   ]
  }
 ],
 "metadata": {
  "kernelspec": {
   "display_name": "Python 3 (ipykernel)",
   "language": "python",
   "name": "python3"
  },
  "language_info": {
   "codemirror_mode": {
    "name": "ipython",
    "version": 3
   },
   "file_extension": ".py",
   "mimetype": "text/x-python",
   "name": "python",
   "nbconvert_exporter": "python",
   "pygments_lexer": "ipython3",
   "version": "3.9.7"
  }
 },
 "nbformat": 4,
 "nbformat_minor": 5
}
